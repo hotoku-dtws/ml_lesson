{
 "cells": [
  {
   "cell_type": "markdown",
   "metadata": {},
   "source": [
    "scikit-learnは、APIが非常に整備されている。「モデル設定」のセクションだけ、変更すれば、他は同じコードで動く。\n",
    "\n",
    "なので、以下の流れは、何百回も行うことになる。"
   ]
  },
  {
   "cell_type": "markdown",
   "metadata": {},
   "source": [
    "# 準備"
   ]
  },
  {
   "cell_type": "code",
   "execution_count": 5,
   "metadata": {},
   "outputs": [],
   "source": [
    "from sklearn.model_selection import StratifiedKFold\n",
    "from sklearn.svm import SVC\n",
    "from sklearn.metrics import accuracy_score, precision_score, recall_score, roc_auc_score, roc_curve, f1_score\n",
    "from sklearn.datasets import make_classification\n",
    "\n",
    "\n",
    "import numpy as np\n",
    "import pandas as pd\n",
    "import seaborn as sns\n",
    "import time"
   ]
  },
  {
   "cell_type": "code",
   "execution_count": 30,
   "metadata": {},
   "outputs": [],
   "source": [
    "X, y = make_classification(n_samples = 500)"
   ]
  },
  {
   "cell_type": "markdown",
   "metadata": {},
   "source": [
    "# モデル設定"
   ]
  },
  {
   "cell_type": "code",
   "execution_count": 36,
   "metadata": {},
   "outputs": [],
   "source": [
    "params_svm = dict(\n",
    "  C=0.1,\n",
    "  kernel=\"rbf\",\n",
    "  degree=3,\n",
    "  gamma=\"scale\",\n",
    "  class_weight=\"balanced\"\n",
    ")\n",
    "clf = SVC(**params_svm,\n",
    "          probability=True,\n",
    "          random_state=1)"
   ]
  },
  {
   "cell_type": "markdown",
   "metadata": {},
   "source": [
    "# 学習と評価"
   ]
  },
  {
   "cell_type": "code",
   "execution_count": 37,
   "metadata": {},
   "outputs": [
    {
     "name": "stdout",
     "output_type": "stream",
     "text": [
      "elapsed 0.0676380860095378\n"
     ]
    }
   ],
   "source": [
    "start_time = time.perf_counter()\n",
    "fit = clf.fit(X, y)\n",
    "print(f\"elapsed {time.perf_counter() - start_time}\")"
   ]
  },
  {
   "cell_type": "code",
   "execution_count": 39,
   "metadata": {},
   "outputs": [
    {
     "name": "stdout",
     "output_type": "stream",
     "text": [
      "\n",
      "accuracy=0.906\n",
      "precision=0.9356223175965666\n",
      "recall=0.872\n",
      "auc=0.959696\n",
      "\n"
     ]
    }
   ],
   "source": [
    "pred = fit.predict(X)\n",
    "prob = fit.predict_proba(X)\n",
    "print(f\"\"\"\n",
    "accuracy={accuracy_score(y, pred)}\n",
    "precision={precision_score(y, pred)}\n",
    "recall={recall_score(y, pred)}\n",
    "auc={roc_auc_score(y, prob[:,1])}\n",
    "\"\"\")"
   ]
  }
 ],
 "metadata": {
  "kernelspec": {
   "display_name": "Python 3",
   "language": "python",
   "name": "python3"
  },
  "language_info": {
   "codemirror_mode": {
    "name": "ipython",
    "version": 3
   },
   "file_extension": ".py",
   "mimetype": "text/x-python",
   "name": "python",
   "nbconvert_exporter": "python",
   "pygments_lexer": "ipython3",
   "version": "3.6.8"
  }
 },
 "nbformat": 4,
 "nbformat_minor": 2
}
